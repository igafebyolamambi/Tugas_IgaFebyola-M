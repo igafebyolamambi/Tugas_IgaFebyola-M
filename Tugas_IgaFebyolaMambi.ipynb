{
 "cells": [
  {
   "cell_type": "markdown",
   "metadata": {},
   "source": [
    "Source code"
   ]
  },
  {
   "cell_type": "markdown",
   "metadata": {},
   "source": [
    "# Kalkulator,Aritmatika,Date and Time"
   ]
  },
  {
   "cell_type": "code",
   "execution_count": 13,
   "metadata": {},
   "outputs": [
    {
     "name": "stdout",
     "output_type": "stream",
     "text": [
      "Masukkan bilangan 1: 2\n",
      "Masukkan bilangan 2: 3\n",
      "Jumlah 2 dan 3 adalah 5.0\n"
     ]
    }
   ],
   "source": [
    "#Pemrograman penjumlahan 2 buah bilangan\n",
    "\n",
    "bil1 = input('Masukkan bilangan 1: ')\n",
    "bil2 = input('Masukkan bilangan 2: ')\n",
    "\n",
    "jumlah = float(bil1) + float(bil2)\n",
    "\n",
    "print('Jumlah {0} dan {1} adalah {2}'.format(bil1, bil2, jumlah))"
   ]
  },
  {
   "cell_type": "code",
   "execution_count": 15,
   "metadata": {},
   "outputs": [
    {
     "name": "stdout",
     "output_type": "stream",
     "text": [
      "Masukkan bilangan 1: 10\n",
      "Masukkan bilangan 2: 5\n",
      "Pengurangan 10 dan 5 adalah 5.0\n"
     ]
    }
   ],
   "source": [
    "#Pemrograman Pengurangan 2 buah bilangan\n",
    "bil1 = input('Masukkan bilangan 1: ')\n",
    "bil2 = input('Masukkan bilangan 2: ')\n",
    "\n",
    "pengurangan = float(bil1) - float(bil2)\n",
    "\n",
    "print('Pengurangan {0} dan {1} adalah {2}'.format(bil1, bil2, pengurangan))"
   ]
  },
  {
   "cell_type": "code",
   "execution_count": 1,
   "metadata": {},
   "outputs": [
    {
     "name": "stdout",
     "output_type": "stream",
     "text": [
      "Pilih Operasi\n",
      "1.Jumlah\n",
      "2.Kurang\n",
      "3.Kali\n",
      "4.Bagi\n",
      "Masukkan Pilihan(1/2/3/4): 1\n",
      "Masukkan bilangan pertama: 10\n",
      "Masukkan bilangan kedua: 34\n",
      "10 + 34 = 44\n"
     ]
    }
   ],
   "source": [
    "#KALKULATOR\n",
    "def add(x,y):#fungsi penjumlahan\n",
    "    return x + y\n",
    "def subtract(x,y): #fungsi pengurangan\n",
    "    return x - y\n",
    "def multiply(x,y): #fungsi perkalian\n",
    "    return x * y\n",
    "def devide(x,y):#fungsi pembagian\n",
    "    return x / y\n",
    "# menu operasi\n",
    "print(\"Pilih Operasi\")\n",
    "print(\"1.Jumlah\")\n",
    "print(\"2.Kurang\")\n",
    "print(\"3.Kali\")\n",
    "print(\"4.Bagi\")\n",
    "choice = input(\"Masukkan Pilihan(1/2/3/4): \") #meminta input dari user\n",
    "num1 = int(input(\"Masukkan bilangan pertama: \"))\n",
    "num2 = int(input(\"Masukkan bilangan kedua: \"))\n",
    "if choice == '1':\n",
    "    print(num1,\"+\",num2,\"=\", add(num1,num2))\n",
    "elif choice == '2':\n",
    "    print(num1,\"-\",num2,\"=\", subtract(num1,num2))\n",
    "elif choice == '3':\n",
    "    print(num1,\"*\",num2,\"=\", multiply(num1,num2))\n",
    "elif choice == '4':\n",
    "    print(num1,\"/\",num2,\"=\", divide(num1,num2))"
   ]
  },
  {
   "cell_type": "markdown",
   "metadata": {},
   "source": [
    "Source code"
   ]
  },
  {
   "cell_type": "code",
   "execution_count": 3,
   "metadata": {},
   "outputs": [
    {
     "name": "stdout",
     "output_type": "stream",
     "text": [
      "inputkan nilai a: 3\n",
      "inputkan nilai b: 6\n",
      "3 + 6 = 9\n",
      "3 - 6 = -3\n",
      "3 * 6 = 18\n",
      "3 / 6 = 0.5\n",
      "3 % 6 = 3\n",
      "3 ** 6 = 729\n"
     ]
    }
   ],
   "source": [
    "#Operator Aritmatika\n",
    "a = int(input(\"inputkan nilai a: \"))\n",
    "b = int(input(\"inputkan nilai b: \"))\n",
    "\n",
    "#Menggunakan Operator Penjumlahan\n",
    "c = a + b\n",
    "print(a,\"+\",b,\"=\", +c)\n",
    "\n",
    "#Menggunakan Operator Pengurangan\n",
    "c = a - b\n",
    "print(a,\"-\",b,\"=\", +c)\n",
    "\n",
    "#Menggunakan Operator Perkalian\n",
    "c = a * b\n",
    "print(a,\"*\",b,\"=\", +c)\n",
    "\n",
    "#Menggunakan Operator Pembagian\n",
    "c = a / b\n",
    "print(a,\"/\",b,\"=\", +c)\n",
    "\n",
    "#Menggunakan Sisa Bagi\n",
    "c = a % b\n",
    "print(a,\"%\",b,\"=\", +c)\n",
    "\n",
    "#Menggunakan Operator pangkat\n",
    "c = a ** b\n",
    "print(a,\"**\",b,\"=\", +c)\n"
   ]
  },
  {
   "cell_type": "code",
   "execution_count": 4,
   "metadata": {},
   "outputs": [
    {
     "data": {
      "text/plain": [
       "'07-04-21. 04 Jul 21 is a Sunday on the 04 day of July.'"
      ]
     },
     "execution_count": 4,
     "metadata": {},
     "output_type": "execute_result"
    }
   ],
   "source": [
    "#Date And Time\n",
    "# dates are easily constructed and formatted\n",
    "from datetime import date\n",
    "now = date.today()\n",
    "now\n",
    "now.strftime(\"%m-%d-%y. %d %b %y is a %A on the %d day of %B.\")"
   ]
  },
  {
   "cell_type": "code",
   "execution_count": 6,
   "metadata": {},
   "outputs": [
    {
     "name": "stdout",
     "output_type": "stream",
     "text": [
      "The count is: 0\n",
      "The count is: 1\n",
      "The count is: 2\n",
      "The count is: 3\n",
      "The count is: 4\n",
      "The count is: 5\n",
      "The count is: 6\n",
      "The count is: 7\n",
      "The count is: 8\n",
      "The count is: 9\n",
      "Good bye!\n"
     ]
    }
   ],
   "source": [
    "count = 0\n",
    "while (count < 10):\n",
    "    print('The count is:', count)\n",
    "    count = count + 1\n",
    "print('Good bye!')"
   ]
  },
  {
   "cell_type": "raw",
   "metadata": {},
   "source": []
  },
  {
   "cell_type": "raw",
   "metadata": {},
   "source": []
  },
  {
   "cell_type": "markdown",
   "metadata": {},
   "source": [
    "# Pengurutan Bilang Menggunakan Bahasa Python"
   ]
  },
  {
   "cell_type": "markdown",
   "metadata": {},
   "source": [
    "# Bubble Sort\n",
    "\n",
    "Bubble sort mungkin metode sorting paling populer yang digunakan dan sederhana. Proses pengurutan dilakukan dengan membandingkan masing-masing nilai dalam suatu list secara berpasangan, kemudian tukar nilai jika diperlukan, dan mengulanginya sampai akhir list secara berurutan, sehingga tidak ada lagi nilai yang dapat ditukar."
   ]
  },
  {
   "cell_type": "markdown",
   "metadata": {},
   "source": [
    "Langkahnya seperti di bawah ini :\n",
    "\n",
    "Bandingkan nilai pada data ke-1 dengan data ke-2.\n",
    "\n",
    "Jika nilai data ke-1 lebih besar dari data ke-2 maka tukar posisinya.\n",
    "\n",
    "Kemudian data yang lebih besar tersebut dibandingkan lagi dengan data ke-3.\n",
    "\n",
    "Jika data ke-3 lebih kecil dari data ke-2 maka tukar posisinya, dan begitu seterusnya sampai semua data yang ada jadi terurut."
   ]
  },
  {
   "cell_type": "code",
   "execution_count": 7,
   "metadata": {},
   "outputs": [
    {
     "name": "stdout",
     "output_type": "stream",
     "text": [
      "[4, 7, 11, 15, 20, 23, 32, 99]\n"
     ]
    }
   ],
   "source": [
    "#Bubble Sort\n",
    " \n",
    "def BubbleSort(val):\n",
    "    for passnum in range(len(val)-1,0,-1):\n",
    "        for i in range(passnum):\n",
    "            if val[i]>val[i+1]:\n",
    "                temp = val[i]\n",
    "                val[i] = val[i+1]\n",
    "                val[i+1] = temp\n",
    " \n",
    "DaftarAngka = [23,7,32,99,4,15,11,20]\n",
    "BubbleSort(DaftarAngka)\n",
    "print(DaftarAngka)"
   ]
  },
  {
   "cell_type": "markdown",
   "metadata": {},
   "source": [
    "# Selection Sort\n",
    "Prinsip dari algoritma selection sort adalah memilih elemen dengan nilai paling rendah dan menukar elemen tersebut dengan elemen ke-i. Nilai dari i dimulai dari 1 ke n, dimana n adalah jumlah total elemen dikurangi 1.\n",
    "\n",
    "Langkahnya seperti di bawah ini :\n",
    "\n",
    "Pengecekan dimulai dari data ke-1 sampai dengan data ke n.\n",
    "\n",
    "Tentukan bilangan dengan index terkecil dari data bilangan tersebut.\n",
    "\n",
    "Tukar bilangan dengan index terkecil tersebut dengan bilangan pertama (i=1) dari data bilangan tersebut.\n",
    "\n",
    "Lakukan langkah 2 dan 3 untuk bilangan berikutnya (i=i+1) sampai di dapatkan data yang sesuai."
   ]
  },
  {
   "cell_type": "code",
   "execution_count": 9,
   "metadata": {},
   "outputs": [
    {
     "name": "stdout",
     "output_type": "stream",
     "text": [
      "[4, 7, 11, 15, 20, 23, 32, 99]\n"
     ]
    }
   ],
   "source": [
    "#Selection Sort\n",
    "\n",
    "def SelectionSort(val):\n",
    "   for isi in range(len(val)-1,0,-1):\n",
    "       Max=0\n",
    "       for lokasi in range(1,isi+1):\n",
    "           if val[lokasi]>val[Max]:\n",
    "               Max = lokasi\n",
    " \n",
    "       temp = val[isi]\n",
    "       val[isi] = val[Max]\n",
    "       val[Max] = temp\n",
    " \n",
    "DaftarAngka = [23,7,32,99,4,15,11,20]\n",
    "SelectionSort(DaftarAngka)\n",
    "print(DaftarAngka)"
   ]
  },
  {
   "cell_type": "markdown",
   "metadata": {},
   "source": [
    "# Insertion Sort\n",
    "\n",
    "Prinsip algoritma insertion sort pada dasarnya membagi data yang akan diurutkan menjadi dua bagian, satu bagian yang belum diurutkan dan yang satunya lagi sudah diurutkan. Elemen pertama diambil dari bagian list yang belum diurutkan dan kemudian diletakkan sesuai posisinya pada bagian lain dari list yang telah diurutkan. Langkah ini dilakukan secara berulang hingga tidak ada lagi elemen yang tersisa pada bagian list yang belum diurutkan.\n",
    "\n",
    "Langkahnya seperti di bawah ini :\n",
    "\n",
    "Bandingkan data ke-2 dengan data ke-1, jika data ke-2 lebih kecil maka tukar posisinya, jika tidak biarkan aja.\n",
    "\n",
    "Data ke-3 dibandingkan dengan data ke-1 dan ke-2, jika data ke-3 lebih kecil kemudian tukar lagi posisinya.\n",
    "\n",
    "Data ke-4 dibandingkan dengan data ke-3, ke-2, dan ke-1, jika data ke-4 lebih kecil dari ketiganya maka letakkan data ke-4 ke posisi paling depan. Begitu seterusnya sampai tidak ada lagi data yang bisa dipindahkan.\n",
    "\n",
    "Contoh script dalam Python "
   ]
  },
  {
   "cell_type": "code",
   "execution_count": 10,
   "metadata": {},
   "outputs": [
    {
     "name": "stdout",
     "output_type": "stream",
     "text": [
      "[4, 7, 11, 15, 20, 23, 32, 99]\n"
     ]
    }
   ],
   "source": [
    "\n",
    "def InsertionSort(val):\n",
    "   for index in range(1,len(val)):\n",
    " \n",
    "     valueaktif = val[index]\n",
    "     posisi = index\n",
    " \n",
    "     while posisi>0 and val[posisi-1]>valueaktif:\n",
    "         val[posisi]=val[posisi-1]\n",
    "         posisi = posisi-1\n",
    " \n",
    "     val[posisi]=valueaktif\n",
    " \n",
    "DaftarAngka = [23,7,32,99,4,15,11,20]\n",
    "InsertionSort(DaftarAngka)\n",
    "print(DaftarAngka)"
   ]
  },
  {
   "cell_type": "code",
   "execution_count": 12,
   "metadata": {},
   "outputs": [
    {
     "name": "stdout",
     "output_type": "stream",
     "text": [
      "Masukkan Bilangan Pertama\t:2\n",
      "Masukkan Bilangan Kedua\t:3\n",
      "Masukkan Bilangan Ketiga\t:1\n",
      "1 2 3\n"
     ]
    }
   ],
   "source": [
    "#Judul :Mengurutkan 3 bilangan dari Terkecil ke terbesar\n",
    "#Kamus\n",
    "#Variabel -----> a,b,c : integer\n",
    "\n",
    "\n",
    "#Input\n",
    "a = int(input(\"Masukkan Bilangan Pertama\\t:\"))\n",
    "b = int(input(\"Masukkan Bilangan Kedua\\t:\"))\n",
    "c = int(input(\"Masukkan Bilangan Ketiga\\t:\"))\n",
    "\n",
    "#Kondisi\n",
    "if (a<b)and(a<c):\n",
    "    if(b<c):\n",
    "        print(a,b,c)\n",
    "    else:\n",
    "        print(a,b,c)\n",
    "elif (b<a)and(b<c):\n",
    "    if (a<c):\n",
    "        print (b,a,c)\n",
    "    else:\n",
    "        print (b,c,a)\n",
    "else:\n",
    "    if (a<b):\n",
    "        print (c,a,b)\n",
    "    else:\n",
    "        print(c,b,a)\n",
    "    "
   ]
  },
  {
   "cell_type": "raw",
   "metadata": {},
   "source": []
  },
  {
   "cell_type": "raw",
   "metadata": {},
   "source": []
  },
  {
   "cell_type": "markdown",
   "metadata": {},
   "source": [
    "# Mencari Nilai Rata-rata, Nilai Tengah, dan hasil perkalian"
   ]
  },
  {
   "cell_type": "markdown",
   "metadata": {},
   "source": [
    "# Nilai Rata-rata"
   ]
  },
  {
   "cell_type": "markdown",
   "metadata": {},
   "source": [
    "PENJELASAN :\n",
    "Baris 1 : mendeklarasikan variable array yang berupa array kosong.\n",
    "Baris 3 : mendeklarasikan variable n dan menginputkan banyaknya data kedalam variable n oleh user.\n",
    "Baris 5-7 : melakukan perulangan sebanyak n dan menginputkan nilai dari setiap data lalu dimasukkan kedalam variable array.\n",
    "Baris 10-11 : menampilkan hasil total nilai dengan menggunakan fungsi sum dari variable array dan nilai rata-rata dari hasil operasi total dibagi jumlah variable n."
   ]
  },
  {
   "cell_type": "code",
   "execution_count": 16,
   "metadata": {},
   "outputs": [
    {
     "name": "stdout",
     "output_type": "stream",
     "text": [
      "Masukkan banyaknya elemen array: 10\n",
      "Masukkan nilai ke-1 : 1\n",
      "Masukkan nilai ke-2 : 2\n",
      "Masukkan nilai ke-3 : 4\n",
      "Masukkan nilai ke-4 : 5\n",
      "Masukkan nilai ke-5 : 7\n",
      "Masukkan nilai ke-6 : 3\n",
      "Masukkan nilai ke-7 : 4\n",
      "Masukkan nilai ke-8 : 5\n",
      "Masukkan nilai ke-9 : 1\n",
      "Masukkan nilai ke-10 : 2\n",
      "\n",
      "Hasil nilai total adalah : 34.0\n",
      "Hasil rata-rata adalah : 3.4\n"
     ]
    }
   ],
   "source": [
    "array = []\n",
    "total = 0\n",
    "\n",
    "n = int(input(\"Masukkan banyaknya elemen array: \"))\n",
    "\n",
    "for x in range(n):\n",
    "    nilai = float(input(\"Masukkan nilai ke-{} : \".format(x+1)))\n",
    "    array.append(nilai)\n",
    "\n",
    "print(\"\\nHasil nilai total adalah : {}\".format(sum(array)))\n",
    "print(\"Hasil rata-rata adalah : {}\".format(sum(array)/n))"
   ]
  },
  {
   "cell_type": "markdown",
   "metadata": {},
   "source": [
    "# 1. Menghitung Mean Menggunakan Fungsi"
   ]
  },
  {
   "cell_type": "code",
   "execution_count": 22,
   "metadata": {},
   "outputs": [
    {
     "name": "stdout",
     "output_type": "stream",
     "text": [
      "Masukkan deret bilangan (pisahkan dengan koma): 1, 2,3,4\n",
      "Data -> [1, 2, 3, 4]\n",
      "Mean -> 2.5\n"
     ]
    }
   ],
   "source": [
    "import statistics\n",
    "\n",
    "inputan = input('Masukkan deret bilangan (pisahkan dengan koma): ')\n",
    "data = []\n",
    "\n",
    "# konversi inputan ke dalam list yg berisi integer\n",
    "for bilangan in inputan.split(','):\n",
    "    data.append(int(bilangan))\n",
    "\n",
    "rerata = statistics.mean(data)\n",
    "print(f'Data -> {data}')\n",
    "print(f'Mean -> {rerata}')"
   ]
  },
  {
   "cell_type": "markdown",
   "metadata": {},
   "source": [
    "# 2. Menghitung Median Dengan Fungsi"
   ]
  },
  {
   "cell_type": "code",
   "execution_count": 25,
   "metadata": {},
   "outputs": [
    {
     "name": "stdout",
     "output_type": "stream",
     "text": [
      "Masukkan deret bilangan (pisahkan dengan koma): 30, 10, 393, 304, 451\n",
      "Data -> [30, 10, 393, 304, 451]\n",
      "Median -> 304\n"
     ]
    }
   ],
   "source": [
    "import statistics\n",
    "\n",
    "inputan = input('Masukkan deret bilangan (pisahkan dengan koma): ')\n",
    "data = []\n",
    "\n",
    "# konversi inputan ke dalam list yg berisi integer\n",
    "for bilangan in inputan.split(','):\n",
    "    data.append(int(bilangan))\n",
    "\n",
    "median = statistics.median(data)\n",
    "print(f'Data -> {data}')\n",
    "print(f'Median -> {median}')"
   ]
  },
  {
   "cell_type": "code",
   "execution_count": null,
   "metadata": {},
   "outputs": [],
   "source": []
  }
 ],
 "metadata": {
  "kernelspec": {
   "display_name": "Python 3",
   "language": "python",
   "name": "python3"
  },
  "language_info": {
   "codemirror_mode": {
    "name": "ipython",
    "version": 3
   },
   "file_extension": ".py",
   "mimetype": "text/x-python",
   "name": "python",
   "nbconvert_exporter": "python",
   "pygments_lexer": "ipython3",
   "version": "3.8.5"
  }
 },
 "nbformat": 4,
 "nbformat_minor": 4
}
